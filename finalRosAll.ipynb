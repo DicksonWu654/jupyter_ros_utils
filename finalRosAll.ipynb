{
 "cells": [
  {
   "cell_type": "code",
   "execution_count": null,
   "id": "c5961641-8b95-4148-af63-c8644c069113",
   "metadata": {},
   "outputs": [],
   "source": [
    "#Stuff above"
   ]
  },
  {
   "cell_type": "code",
   "execution_count": null,
   "id": "7dad9481-7e75-4851-886c-2bc2f2d9d7b6",
   "metadata": {},
   "outputs": [],
   "source": [
    "! if [ ! -d boost_git ]; then git clone -b boost-1.71.0 --single-branch --recurse-submodules https://github.com/boostorg/boost.git boost_git; fi"
   ]
  },
  {
   "cell_type": "code",
   "execution_count": null,
   "id": "0965439e-d74a-4fb7-a5f5-85989859514c",
   "metadata": {},
   "outputs": [],
   "source": [
    "! python3 ../scripts/generate_cling_boost.py boost_git"
   ]
  },
  {
   "cell_type": "code",
   "execution_count": null,
   "id": "01f23b1b-4dfa-4d56-8f35-506f9ac02acb",
   "metadata": {},
   "outputs": [],
   "source": [
    "! python3 ../scripts/generate_cling_3rd_party.py roscpp"
   ]
  },
  {
   "cell_type": "code",
   "execution_count": null,
   "id": "d78dddad-5ac0-4b13-b674-6a60e9300fde",
   "metadata": {},
   "outputs": [],
   "source": [
    "#Open CV"
   ]
  },
  {
   "cell_type": "code",
   "execution_count": null,
   "id": "b8c006f1-9cb2-48bf-ab28-8b141d534e28",
   "metadata": {},
   "outputs": [],
   "source": [
    "! ../scripts/generate_cling_3rd_party.py opencv4"
   ]
  },
  {
   "cell_type": "code",
   "execution_count": null,
   "id": "bf1d9a0d-0ead-41de-8547-96d0844391f9",
   "metadata": {},
   "outputs": [],
   "source": [
    "#include \"load_opencv4.h\""
   ]
  },
  {
   "cell_type": "code",
   "execution_count": null,
   "id": "f9e8d2aa-1514-4078-bd56-490c61345245",
   "metadata": {},
   "outputs": [],
   "source": [
    "#include <opencv2/opencv.hpp>\n",
    "\n",
    "cv::Mat mat1(255, 255, CV_8UC3);\n",
    "cv::Mat mat2;\n",
    "mat1.copyTo(mat2);\n",
    "cv::cvtColor()"
   ]
  },
  {
   "cell_type": "code",
   "execution_count": null,
   "id": "7dc46e84-baa3-4279-86f0-86f02d62e131",
   "metadata": {},
   "outputs": [],
   "source": [
    "#pcl"
   ]
  },
  {
   "cell_type": "code",
   "execution_count": null,
   "id": "a9275bb5-ebca-48bf-8473-ca90c97d5b60",
   "metadata": {},
   "outputs": [],
   "source": [
    "! ../scripts/generate_cling_boost.py boost_git"
   ]
  },
  {
   "cell_type": "code",
   "execution_count": null,
   "id": "7d5f5bc9-4702-4d12-9bb7-a5ac6209e639",
   "metadata": {},
   "outputs": [],
   "source": [
    "! ../scripts/generate_cling_3rd_party.py eigen3"
   ]
  },
  {
   "cell_type": "code",
   "execution_count": null,
   "id": "75f1a7a4-227e-42f2-9cfb-a4b148663092",
   "metadata": {},
   "outputs": [],
   "source": [
    "! ../scripts/generate_cling_3rd_party.py pcl_common-1.11"
   ]
  },
  {
   "cell_type": "code",
   "execution_count": null,
   "id": "335982ed-1d14-4509-b53f-085e37b91067",
   "metadata": {},
   "outputs": [],
   "source": [
    "#include \"load_boost_git.h\"\n",
    "#include \"load_eigen3.h\"\n",
    "#include \"load_pcl_common-1.11.h\""
   ]
  },
  {
   "cell_type": "code",
   "execution_count": null,
   "id": "edcefe82-247c-4841-b1f0-2a0cd0c0e65a",
   "metadata": {},
   "outputs": [],
   "source": [
    "#include <pcl/point_cloud.h>\n",
    "#include <pcl/point_types.h>\n",
    "\n",
    "pcl::PointXYZ pt;\n",
    "pt.x = 1.0;\n",
    "pt.y = 2.0;\n",
    "pt.z = 3.0;\n",
    "\n",
    "pcl::PointCloud<pcl::PointXYZ> pc;\n",
    "pc.push_back(pt);"
   ]
  },
  {
   "cell_type": "code",
   "execution_count": null,
   "id": "b3b3ca36-80de-4570-a980-01106cb0ffa6",
   "metadata": {},
   "outputs": [],
   "source": [
    "#Parameter"
   ]
  },
  {
   "cell_type": "code",
   "execution_count": null,
   "id": "1a917399-9b19-4b4b-87ad-dd39ec5968b4",
   "metadata": {},
   "outputs": [],
   "source": [
    "#include <opencv2/opencv.hpp>\n",
    "\n",
    "cv::Mat mat1(255, 255, CV_8UC3);\n",
    "cv::Mat mat2;\n",
    "mat1.copyTo(mat2);\n",
    "cv::cvtColor()"
   ]
  }
 ],
 "metadata": {
  "kernelspec": {
   "display_name": "C++17",
   "language": "C++17",
   "name": "xcpp17"
  },
  "language_info": {
   "codemirror_mode": "text/x-c++src",
   "file_extension": ".cpp",
   "mimetype": "text/x-c++src",
   "name": "c++",
   "version": "17"
  }
 },
 "nbformat": 4,
 "nbformat_minor": 5
}
