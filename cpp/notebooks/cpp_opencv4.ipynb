{
 "cells": [
  {
   "cell_type": "code",
   "execution_count": null,
   "id": "abb511fb",
   "metadata": {},
   "outputs": [],
   "source": [
    "! ../scripts/generate_cling_3rd_party.py opencv4"
   ]
  },
  {
   "cell_type": "code",
   "execution_count": null,
   "id": "20d68b46",
   "metadata": {},
   "outputs": [],
   "source": [
    "#include \"load_opencv4.h\""
   ]
  },
  {
   "cell_type": "code",
   "execution_count": null,
   "id": "acc0e73c",
   "metadata": {},
   "outputs": [],
   "source": [
    "#include <opencv2/opencv.hpp>\n",
    "\n",
    "cv::Mat mat1(255, 255, CV_8UC3);\n",
    "cv::Mat mat2;\n",
    "mat1.copyTo(mat2);\n",
    "cv::cvtColor()"
   ]
  }
 ],
 "metadata": {
  "kernelspec": {
   "display_name": "C++17",
   "language": "C++17",
   "name": "xcpp17"
  },
  "language_info": {
   "codemirror_mode": "text/x-c++src",
   "file_extension": ".cpp",
   "mimetype": "text/x-c++src",
   "name": "c++",
   "version": "17"
  }
 },
 "nbformat": 4,
 "nbformat_minor": 5
}
