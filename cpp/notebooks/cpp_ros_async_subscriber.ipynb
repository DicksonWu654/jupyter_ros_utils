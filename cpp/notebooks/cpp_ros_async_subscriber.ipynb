{
 "cells": [
  {
   "cell_type": "markdown",
   "id": "f11b455a",
   "metadata": {},
   "source": [
    "# The Tutorial shows demonstration of Asynchronus ROS suscriber.\n",
    "\n"
   ]
  },
  {
   "cell_type": "markdown",
   "id": "67b2e9b0",
   "metadata": {},
   "source": [
    "### Step 1 - Get the required header files to run ROS\n",
    "\n",
    "NOTE :- Run roscore in on of the other terminal before starting the tutorial to start rosmaster."
   ]
  },
  {
   "cell_type": "code",
   "execution_count": null,
   "id": "b3e91811-91cb-4eda-b7e3-81ad61428e04",
   "metadata": {},
   "outputs": [],
   "source": [
    "! python3 ../scripts/generate_cling_boost.py boost_git"
   ]
  },
  {
   "cell_type": "code",
   "execution_count": null,
   "id": "ed60fae6-df8d-4df7-b2db-f3d5f68e7e88",
   "metadata": {},
   "outputs": [],
   "source": [
    "! python3 ../scripts/generate_cling_3rd_party.py roscpp"
   ]
  },
  {
   "cell_type": "markdown",
   "id": "c7638c6f",
   "metadata": {},
   "source": [
    "### Step 2 - Load the ROS and Boost libraries."
   ]
  },
  {
   "cell_type": "code",
   "execution_count": 2,
   "id": "4fac76ce-8c53-4469-b310-9da425cd9d17",
   "metadata": {},
   "outputs": [],
   "source": [
    "#include \"load_boost_git.h\"\n",
    "#include \"load_roscpp.h\""
   ]
  },
  {
   "cell_type": "markdown",
   "id": "5714cfb0",
   "metadata": {},
   "source": [
    "### Step 3 - Load the ROS and Boost libraries."
   ]
  },
  {
   "cell_type": "code",
   "execution_count": 3,
   "id": "430ece07-34fe-4c2b-aa72-5118a814bb4d",
   "metadata": {},
   "outputs": [],
   "source": [
    "#include \"load_test.h\"\n",
    "#include \"jupyter_ros_utils/subscriber.hpp\""
   ]
  },
  {
   "cell_type": "markdown",
   "id": "514de179",
   "metadata": {},
   "source": [
    "### Step 4 - Initialize ROS Spinner and start the callback"
   ]
  },
  {
   "cell_type": "code",
   "execution_count": 4,
   "id": "7f5062d6-4b53-4575-a65d-3e5c09d0f7a7",
   "metadata": {},
   "outputs": [
    {
     "data": {
      "application/vnd.jupyter.widget-view+json": {
       "model_id": "45e7bc890d774dbcb3d3b7cf5378ef88",
       "version_major": 2,
       "version_minor": 0
      },
      "text/plain": [
       "A Jupyter widget"
      ]
     },
     "metadata": {},
     "output_type": "display_data"
    }
   ],
   "source": [
    "#include <std_msgs/String.h>\n",
    "\n",
    "void cb(const std_msgs::String& msg) {\n",
    "    std::cout << msg << \"\\n\";\n",
    "}\n",
    "\n",
    "// warning: don't run 2 subscribers on same topic at the same time\n",
    "ros_init();\n",
    "ZeusSubscriber sub1(\"/magic/lol\", cb);"
   ]
  }
 ],
 "metadata": {
  "kernelspec": {
   "display_name": "C++17",
   "language": "C++17",
   "name": "xcpp17"
  },
  "language_info": {
   "codemirror_mode": "text/x-c++src",
   "file_extension": ".cpp",
   "mimetype": "text/x-c++src",
   "name": "c++",
   "version": "-std=c++17"
  }
 },
 "nbformat": 4,
 "nbformat_minor": 5
}
