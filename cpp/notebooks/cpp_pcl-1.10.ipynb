{
 "cells": [
  {
   "cell_type": "code",
   "execution_count": 4,
   "id": "c8fba46e",
   "metadata": {},
   "outputs": [
    {
     "name": "stdout",
     "output_type": "stream",
     "text": [
      "Files written to ./load_boost_git.h\n"
     ]
    }
   ],
   "source": [
    "! ../scripts/generate_cling_boost.py "
   ]
  },
  {
   "cell_type": "code",
   "execution_count": 5,
   "id": "11057ae0",
   "metadata": {},
   "outputs": [
    {
     "name": "stdout",
     "output_type": "stream",
     "text": [
      "Files written to ./load_eigen3.h\n"
     ]
    }
   ],
   "source": [
    "! ../scripts/generate_cling_3rd_party.py eigen3"
   ]
  },
  {
   "cell_type": "markdown",
   "id": "a8d79273",
   "metadata": {},
   "source": [
    "### Note if your are using Ubuntu 18 please change pcl_common-1.10 -> pcl_common-1.8"
   ]
  },
  {
   "cell_type": "code",
   "execution_count": 7,
   "id": "5a42e22b",
   "metadata": {},
   "outputs": [
    {
     "name": "stdout",
     "output_type": "stream",
     "text": [
      "Files written to ./load_pcl_common-1.8.h\n"
     ]
    }
   ],
   "source": [
    "! ../scripts/generate_cling_3rd_party.py pcl_common-1.8"
   ]
  },
  {
   "cell_type": "code",
   "execution_count": 9,
   "id": "e56fdcac",
   "metadata": {},
   "outputs": [],
   "source": [
    "#include \"load_boost_git.h\"\n",
    "#include \"load_eigen3.h\"\n",
    "#include \"load_pcl_common-1.8.h\""
   ]
  },
  {
   "cell_type": "code",
   "execution_count": 10,
   "id": "60169e66",
   "metadata": {},
   "outputs": [],
   "source": [
    "#include <pcl/point_cloud.h>\n",
    "#include <pcl/point_types.h>\n",
    "\n",
    "pcl::PointXYZ pt;\n",
    "pt.x = 1.0;\n",
    "pt.y = 2.0;\n",
    "pt.z = 3.0;\n",
    "\n",
    "pcl::PointCloud<pcl::PointXYZ> pc;\n",
    "pc.push_back(pt);"
   ]
  }
 ],
 "metadata": {
  "kernelspec": {
   "display_name": "C++17",
   "language": "C++17",
   "name": "xcpp17"
  },
  "language_info": {
   "codemirror_mode": "text/x-c++src",
   "file_extension": ".cpp",
   "mimetype": "text/x-c++src",
   "name": "c++",
   "version": "-std=c++17"
  }
 },
 "nbformat": 4,
 "nbformat_minor": 5
}
