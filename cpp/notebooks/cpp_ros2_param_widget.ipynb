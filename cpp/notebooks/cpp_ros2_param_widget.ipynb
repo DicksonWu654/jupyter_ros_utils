{
 "cells": [
  {
   "cell_type": "markdown",
   "id": "9ed828cb-43ae-4592-a06c-6b41275be43e",
   "metadata": {},
   "source": [
    "## Tutorial to use ros2 param widgets"
   ]
  },
  {
   "cell_type": "markdown",
   "id": "4e853e6e-b262-4634-8419-743b78a0eb2b",
   "metadata": {},
   "source": [
    "Prepare the environment for roscpp"
   ]
  },
  {
   "cell_type": "code",
   "execution_count": null,
   "id": "1970de45-22a9-4492-acc9-07c40466d61e",
   "metadata": {},
   "outputs": [],
   "source": [
    "! ./generate_cling_prefix_path.py ~/ros2_foxy/install"
   ]
  },
  {
   "cell_type": "code",
   "execution_count": null,
   "id": "197ce37a-1dba-4e24-850e-c353053afa42",
   "metadata": {},
   "outputs": [],
   "source": [
    "#include \"load_install.h\""
   ]
  },
  {
   "cell_type": "markdown",
   "id": "de94cfa3-162b-4b59-89c4-e1ed915b27ef",
   "metadata": {},
   "source": [
    "Include our ros param utils and run it"
   ]
  },
  {
   "cell_type": "code",
   "execution_count": null,
   "id": "7e106b28-e60f-46c5-8a23-10ef1912319a",
   "metadata": {},
   "outputs": [],
   "source": [
    "#include \"jupyter_ros_utils/param_ros2.hpp\""
   ]
  },
  {
   "cell_type": "code",
   "execution_count": null,
   "id": "bcf3f0f3",
   "metadata": {},
   "outputs": [],
   "source": [
    "ros2_init();"
   ]
  },
  {
   "cell_type": "code",
   "execution_count": null,
   "id": "f3cdf144-bc08-45fa-86a3-5f11fc397088",
   "metadata": {},
   "outputs": [],
   "source": [
    "auto zp1 = get_ros2_node<ZeusParam2>();"
   ]
  },
  {
   "cell_type": "code",
   "execution_count": null,
   "id": "dc7e75b8-5ac8-4f5d-a17b-a45e2dc70149",
   "metadata": {},
   "outputs": [],
   "source": [
    "auto zp2 = get_ros2_node<ZeusParam2>();"
   ]
  },
  {
   "cell_type": "code",
   "execution_count": null,
   "id": "87fe74e6-241a-4c0a-a7cc-e30643e83bfb",
   "metadata": {},
   "outputs": [],
   "source": [
    "! ros2 param set /param_widget /param_widget/test p1"
   ]
  },
  {
   "cell_type": "code",
   "execution_count": null,
   "id": "fd8543c3-283f-43ed-bfb1-51ffa8dcd4bd",
   "metadata": {},
   "outputs": [],
   "source": [
    "! ros2 param delete /param_widget /param_widget/test"
   ]
  },
  {
   "cell_type": "code",
   "execution_count": null,
   "id": "71876952-4c58-4c14-893a-467bca1c7381",
   "metadata": {},
   "outputs": [],
   "source": [
    "! ros2 param set /param_widget /param_widget/test2 p2"
   ]
  },
  {
   "cell_type": "code",
   "execution_count": null,
   "id": "9a32f714-817a-4b25-8669-01b154920994",
   "metadata": {},
   "outputs": [],
   "source": [
    "! ros2 param delete /param_widget /param_widget/test2"
   ]
  }
 ],
 "metadata": {
  "kernelspec": {
   "display_name": "C++17",
   "language": "C++17",
   "name": "xcpp17"
  },
  "language_info": {
   "codemirror_mode": "text/x-c++src",
   "file_extension": ".cpp",
   "mimetype": "text/x-c++src",
   "name": "c++",
   "version": "17"
  }
 },
 "nbformat": 4,
 "nbformat_minor": 5
}
