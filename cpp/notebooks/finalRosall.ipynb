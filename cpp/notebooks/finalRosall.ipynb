{
 "cells": [
  {
   "cell_type": "code",
   "execution_count": null,
   "id": "c5961641-8b95-4148-af63-c8644c069113",
   "metadata": {},
   "outputs": [],
   "source": []
  },
  {
   "cell_type": "code",
   "execution_count": null,
   "id": "7dad9481-7e75-4851-886c-2bc2f2d9d7b6",
   "metadata": {},
   "outputs": [],
   "source": [
    "! if [ ! -d boost_git ]; then git clone -b boost-1.71.0 --single-branch --recurse-submodules https://github.com/boostorg/boost.git boost_git; fi"
   ]
  },
  {
   "cell_type": "code",
   "execution_count": null,
   "id": "0965439e-d74a-4fb7-a5f5-85989859514c",
   "metadata": {},
   "outputs": [],
   "source": [
    "! python3 ../scripts/generate_cling_boost.py boost_git"
   ]
  },
  {
   "cell_type": "code",
   "execution_count": null,
   "id": "01f23b1b-4dfa-4d56-8f35-506f9ac02acb",
   "metadata": {},
   "outputs": [],
   "source": [
    "! python3 ../scripts/generate_cling_3rd_party.py roscpp"
   ]
  },
  {
   "cell_type": "code",
   "execution_count": null,
   "id": "d78dddad-5ac0-4b13-b674-6a60e9300fde",
   "metadata": {},
   "outputs": [],
   "source": []
  },
  {
   "cell_type": "code",
   "execution_count": null,
   "id": "b8c006f1-9cb2-48bf-ab28-8b141d534e28",
   "metadata": {},
   "outputs": [],
   "source": [
    "! ../scripts/generate_cling_3rd_party.py opencv4"
   ]
  },
  {
   "cell_type": "code",
   "execution_count": null,
   "id": "bf1d9a0d-0ead-41de-8547-96d0844391f9",
   "metadata": {},
   "outputs": [],
   "source": [
    "#include \"load_opencv4.h\""
   ]
  },
  {
   "cell_type": "code",
   "execution_count": null,
   "id": "f9e8d2aa-1514-4078-bd56-490c61345245",
   "metadata": {},
   "outputs": [],
   "source": [
    "#include <opencv2/opencv.hpp>\n",
    "\n",
    "cv::Mat mat1(255, 255, CV_8UC3);\n",
    "cv::Mat mat2;\n",
    "mat1.copyTo(mat2);\n",
    "cv::cvtColor()"
   ]
  },
  {
   "cell_type": "code",
   "execution_count": null,
   "id": "7dc46e84-baa3-4279-86f0-86f02d62e131",
   "metadata": {},
   "outputs": [],
   "source": [
    "#pcl"
   ]
  },
  {
   "cell_type": "code",
   "execution_count": null,
   "id": "a9275bb5-ebca-48bf-8473-ca90c97d5b60",
   "metadata": {},
   "outputs": [],
   "source": [
    "! ../scripts/generate_cling_boost.py boost_git"
   ]
  },
  {
   "cell_type": "code",
   "execution_count": null,
   "id": "7d5f5bc9-4702-4d12-9bb7-a5ac6209e639",
   "metadata": {},
   "outputs": [],
   "source": [
    "! ../scripts/generate_cling_3rd_party.py eigen3"
   ]
  },
  {
   "cell_type": "code",
   "execution_count": null,
   "id": "75f1a7a4-227e-42f2-9cfb-a4b148663092",
   "metadata": {},
   "outputs": [],
   "source": [
    "! ../scripts/generate_cling_3rd_party.py pcl_common-1.11"
   ]
  },
  {
   "cell_type": "code",
   "execution_count": null,
   "id": "335982ed-1d14-4509-b53f-085e37b91067",
   "metadata": {},
   "outputs": [],
   "source": [
    "#include \"load_boost_git.h\"\n",
    "#include \"load_eigen3.h\"\n",
    "#include \"load_pcl_common-1.11.h\""
   ]
  },
  {
   "cell_type": "code",
   "execution_count": null,
   "id": "edcefe82-247c-4841-b1f0-2a0cd0c0e65a",
   "metadata": {},
   "outputs": [],
   "source": [
    "#include <pcl/point_cloud.h>\n",
    "#include <pcl/point_types.h>\n",
    "\n",
    "pcl::PointXYZ pt;\n",
    "pt.x = 1.0;\n",
    "pt.y = 2.0;\n",
    "pt.z = 3.0;\n",
    "\n",
    "pcl::PointCloud<pcl::PointXYZ> pc;\n",
    "pc.push_back(pt);"
   ]
  },
  {
   "cell_type": "code",
   "execution_count": null,
   "id": "b3b3ca36-80de-4570-a980-01106cb0ffa6",
   "metadata": {},
   "outputs": [],
   "source": []
  },
  {
   "cell_type": "code",
   "execution_count": null,
   "id": "1a917399-9b19-4b4b-87ad-dd39ec5968b4",
   "metadata": {},
   "outputs": [],
   "source": [
    "#include <opencv2/opencv.hpp>\n",
    "\n",
    "cv::Mat mat1(255, 255, CV_8UC3);\n",
    "cv::Mat mat2;\n",
    "mat1.copyTo(mat2);\n",
    "cv::cvtColor()"
   ]
  },
  {
   "cell_type": "code",
   "execution_count": null,
   "id": "56e56317-e276-4a62-9f1e-572e2077f430",
   "metadata": {},
   "outputs": [],
   "source": []
  },
  {
   "cell_type": "code",
   "execution_count": null,
   "id": "0251dcb1-baac-439d-99bb-f2928ad8ab2e",
   "metadata": {},
   "outputs": [],
   "source": [
    "#include \"load_boost_git.h\"\n",
    "#include \"load_roscpp.h\""
   ]
  },
  {
   "cell_type": "code",
   "execution_count": null,
   "id": "2a640ae1-06d3-4a00-845b-8ce254b10bb9",
   "metadata": {},
   "outputs": [],
   "source": [
    "#include \"jupyter_ros_utils/publisher.hpp\""
   ]
  },
  {
   "cell_type": "code",
   "execution_count": null,
   "id": "69e44dd2-5a32-4254-947a-26e328e13c9e",
   "metadata": {},
   "outputs": [],
   "source": [
    "ros_init(\"cpp_ros_async_publisher\");\n",
    "ZeusPublisher pub1(\"/magic/lol\");"
   ]
  },
  {
   "cell_type": "code",
   "execution_count": null,
   "id": "1817ebf1-122a-4627-902d-14f614fa0d8d",
   "metadata": {},
   "outputs": [],
   "source": []
  },
  {
   "cell_type": "code",
   "execution_count": null,
   "id": "2d3cf19f-b2e5-445d-b29a-873f4b640cd3",
   "metadata": {},
   "outputs": [],
   "source": [
    "#include \"jupyter_ros_utils/subscriber.hpp\""
   ]
  },
  {
   "cell_type": "code",
   "execution_count": null,
   "id": "da15cf0e-56cc-41b7-8b84-cbe7a054edae",
   "metadata": {},
   "outputs": [],
   "source": [
    "#include <std_msgs/String.h>\n",
    "\n",
    "void cb(const std_msgs::String& msg) {\n",
    "    std::cout << msg << \"\\n\";\n",
    "}\n",
    "\n",
    "// warning: don't run 2 subscribers on same topic at the same time\n",
    "ros_init(\"cpp_ros_async_subscriber\");\n",
    "ZeusSubscriber sub1(\"/magic/lol\", cb, true);"
   ]
  },
  {
   "cell_type": "code",
   "execution_count": null,
   "id": "a9cc8233-b780-495e-a243-a667d862f413",
   "metadata": {},
   "outputs": [],
   "source": []
  }
 ],
 "metadata": {
  "kernelspec": {
   "display_name": "C++17",
   "language": "C++17",
   "name": "xcpp17"
  },
  "language_info": {
   "codemirror_mode": "text/x-c++src",
   "file_extension": ".cpp",
   "mimetype": "text/x-c++src",
   "name": "c++",
   "version": "17"
  }
 },
 "nbformat": 4,
 "nbformat_minor": 5
}
